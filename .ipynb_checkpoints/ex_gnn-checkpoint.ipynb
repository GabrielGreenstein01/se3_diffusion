{
 "cells": [
  {
   "cell_type": "code",
   "execution_count": 1,
   "id": "e2b7f196-3576-4bf8-b89d-76153356015a",
   "metadata": {},
   "outputs": [],
   "source": [
    "%load_ext autoreload\n",
    "%autoreload 2\n",
    "\n",
    "from utils.dataloader import pdb_to_frames, SE3FrameDataset, squeeze_batch, to_device\n",
    "from utils.noise_denoise import noise_translations, DSM_R3, score_R3, noise_rotations\n",
    "from torch.utils.data import DataLoader\n",
    "from utils.pdb_utils import write_ca_to_pdb, write_frames_to_pdb\n",
    "\n",
    "from glob import glob\n",
    "from pathlib import Path\n",
    "\n",
    "import torch\n",
    "import torch.nn as nn\n",
    "import torch.optim as optim\n",
    "from models.gnn import EGNNScoreModel, encode_node_features, encode_edge_features"
   ]
  },
  {
   "cell_type": "code",
   "execution_count": 2,
   "id": "b24cb440-8ee2-40f0-bc21-90f346fc673c",
   "metadata": {
    "scrolled": true
   },
   "outputs": [],
   "source": [
    "pdb_folder = 'pdb_small/*.pdb'\n",
    "pdb_frames = {Path(pdb_file).stem: pdb_to_frames(pdb_file)\n",
    "              for pdb_file in glob(pdb_folder)}"
   ]
  },
  {
   "cell_type": "code",
   "execution_count": 3,
   "id": "5692cc35-b4a8-491e-bd86-0f86556f4ae6",
   "metadata": {
    "scrolled": true
   },
   "outputs": [],
   "source": [
    "dataset = SE3FrameDataset(pdb_frames)\n",
    "loader = DataLoader(dataset, batch_size=1, shuffle=True, collate_fn = squeeze_batch)"
   ]
  },
  {
   "cell_type": "code",
   "execution_count": 4,
   "id": "082e5438-83a7-4416-882e-49a7bfa4b2ba",
   "metadata": {
    "scrolled": true
   },
   "outputs": [
    {
     "name": "stdout",
     "output_type": "stream",
     "text": [
      "Epoch 1\n"
     ]
    },
    {
     "name": "stderr",
     "output_type": "stream",
     "text": [
      "Training:   0%|                                           | 0/2 [00:00<?, ?it/s]"
     ]
    },
    {
     "name": "stdout",
     "output_type": "stream",
     "text": [
      "Predicted score mean: -0.2108448710119146 std: 0.6592480620443284\n",
      "True score mean: 0.01277614274546102 std: 1.2964030164034546\n"
     ]
    },
    {
     "name": "stderr",
     "output_type": "stream",
     "text": [
      "Training:  50%|█████████████████▌                 | 1/2 [00:00<00:00,  1.43it/s]"
     ]
    },
    {
     "name": "stdout",
     "output_type": "stream",
     "text": [
      "Predicted score mean: -0.046275668292075495 std: 0.2705360506005359\n",
      "True score mean: -0.0020094920925993543 std: 1.4504224585755265\n"
     ]
    },
    {
     "name": "stderr",
     "output_type": "stream",
     "text": [
      "Training: 100%|███████████████████████████████████| 2/2 [00:01<00:00,  1.43it/s]\n"
     ]
    },
    {
     "name": "stdout",
     "output_type": "stream",
     "text": [
      "[Epoch 1] Loss: 396.155486\n",
      "Epoch 2\n"
     ]
    },
    {
     "name": "stderr",
     "output_type": "stream",
     "text": [
      "Training:   0%|                                           | 0/2 [00:00<?, ?it/s]"
     ]
    },
    {
     "name": "stdout",
     "output_type": "stream",
     "text": [
      "Predicted score mean: 0.06830521225058303 std: 0.13708125403200902\n",
      "True score mean: -0.0022953664208346593 std: 1.6453921559011437\n"
     ]
    },
    {
     "name": "stderr",
     "output_type": "stream",
     "text": [
      "Training:  50%|█████████████████▌                 | 1/2 [00:00<00:00,  1.43it/s]"
     ]
    },
    {
     "name": "stdout",
     "output_type": "stream",
     "text": [
      "Predicted score mean: 0.12760770037226546 std: 0.33188327610993523\n",
      "True score mean: -0.0008940545806285584 std: 2.2395539032369816\n"
     ]
    },
    {
     "name": "stderr",
     "output_type": "stream",
     "text": [
      "Training: 100%|███████████████████████████████████| 2/2 [00:01<00:00,  1.45it/s]\n"
     ]
    },
    {
     "name": "stdout",
     "output_type": "stream",
     "text": [
      "[Epoch 2] Loss: 1676.028592\n",
      "Epoch 3\n"
     ]
    },
    {
     "name": "stderr",
     "output_type": "stream",
     "text": [
      "Training:   0%|                                           | 0/2 [00:00<?, ?it/s]"
     ]
    },
    {
     "name": "stdout",
     "output_type": "stream",
     "text": [
      "Predicted score mean: 0.11716544124737226 std: 0.32815231175227155\n",
      "True score mean: -0.005780920100912969 std: 1.8256661577846458\n"
     ]
    },
    {
     "name": "stderr",
     "output_type": "stream",
     "text": [
      "Training:  50%|█████████████████▌                 | 1/2 [00:00<00:00,  1.41it/s]"
     ]
    },
    {
     "name": "stdout",
     "output_type": "stream",
     "text": [
      "Predicted score mean: 0.07931111956284426 std: 0.28511561556503223\n",
      "True score mean: -0.009265682152358125 std: 1.2831466849209474\n"
     ]
    },
    {
     "name": "stderr",
     "output_type": "stream",
     "text": [
      "Training: 100%|███████████████████████████████████| 2/2 [00:01<00:00,  1.43it/s]\n"
     ]
    },
    {
     "name": "stdout",
     "output_type": "stream",
     "text": [
      "[Epoch 3] Loss: 590.159805\n",
      "Epoch 4\n"
     ]
    },
    {
     "name": "stderr",
     "output_type": "stream",
     "text": [
      "Training:   0%|                                           | 0/2 [00:00<?, ?it/s]"
     ]
    },
    {
     "name": "stdout",
     "output_type": "stream",
     "text": [
      "Predicted score mean: 0.03768500139082536 std: 0.20287200959108223\n",
      "True score mean: 0.022708589552696484 std: 1.5647546645755328\n"
     ]
    },
    {
     "name": "stderr",
     "output_type": "stream",
     "text": [
      "Training:  50%|█████████████████▌                 | 1/2 [00:00<00:00,  1.51it/s]"
     ]
    },
    {
     "name": "stdout",
     "output_type": "stream",
     "text": [
      "Predicted score mean: -0.00476459245097523 std: 0.12173123634780603\n",
      "True score mean: -0.011225063320352112 std: 1.4523050342689205\n"
     ]
    },
    {
     "name": "stderr",
     "output_type": "stream",
     "text": [
      "Training: 100%|███████████████████████████████████| 2/2 [00:01<00:00,  1.47it/s]\n"
     ]
    },
    {
     "name": "stdout",
     "output_type": "stream",
     "text": [
      "[Epoch 4] Loss: 643.201614\n",
      "Epoch 5\n"
     ]
    },
    {
     "name": "stderr",
     "output_type": "stream",
     "text": [
      "Training:   0%|                                           | 0/2 [00:00<?, ?it/s]"
     ]
    },
    {
     "name": "stdout",
     "output_type": "stream",
     "text": [
      "Predicted score mean: -0.034302529638423875 std: 0.04783745441513638\n",
      "True score mean: 0.006065145309701501 std: 1.4390748800061477\n"
     ]
    },
    {
     "name": "stderr",
     "output_type": "stream",
     "text": [
      "Training:  50%|█████████████████▌                 | 1/2 [00:00<00:00,  1.45it/s]"
     ]
    },
    {
     "name": "stdout",
     "output_type": "stream",
     "text": [
      "Predicted score mean: -0.048568301053655706 std: 0.015285392403512324\n",
      "True score mean: 0.020953097162313715 std: 1.4110838055653363\n"
     ]
    },
    {
     "name": "stderr",
     "output_type": "stream",
     "text": [
      "Training: 100%|███████████████████████████████████| 2/2 [00:01<00:00,  1.47it/s]\n"
     ]
    },
    {
     "name": "stdout",
     "output_type": "stream",
     "text": [
      "[Epoch 5] Loss: 457.589909\n",
      "Epoch 6\n"
     ]
    },
    {
     "name": "stderr",
     "output_type": "stream",
     "text": [
      "Training:   0%|                                           | 0/2 [00:00<?, ?it/s]"
     ]
    },
    {
     "name": "stdout",
     "output_type": "stream",
     "text": [
      "Predicted score mean: -0.02530040007066563 std: 0.06897611375015623\n",
      "True score mean: 0.023625769137748023 std: 1.6555670181305566\n"
     ]
    },
    {
     "name": "stderr",
     "output_type": "stream",
     "text": [
      "Training:  50%|█████████████████▌                 | 1/2 [00:00<00:00,  1.43it/s]"
     ]
    },
    {
     "name": "stdout",
     "output_type": "stream",
     "text": [
      "Predicted score mean: 0.011542355827037006 std: 0.11752989206427834\n",
      "True score mean: 0.01975166471949788 std: 1.4511007321503693\n"
     ]
    },
    {
     "name": "stderr",
     "output_type": "stream",
     "text": [
      "Training: 100%|███████████████████████████████████| 2/2 [00:01<00:00,  1.46it/s]\n"
     ]
    },
    {
     "name": "stdout",
     "output_type": "stream",
     "text": [
      "[Epoch 6] Loss: 630.923190\n",
      "Epoch 7\n"
     ]
    },
    {
     "name": "stderr",
     "output_type": "stream",
     "text": [
      "Training:   0%|                                           | 0/2 [00:00<?, ?it/s]"
     ]
    },
    {
     "name": "stdout",
     "output_type": "stream",
     "text": [
      "Predicted score mean: 0.04593888308070261 std: 0.1442023435496035\n",
      "True score mean: -0.00434949958753362 std: 1.5952805017800862\n"
     ]
    },
    {
     "name": "stderr",
     "output_type": "stream",
     "text": [
      "Training:  50%|█████████████████▌                 | 1/2 [00:00<00:00,  1.43it/s]"
     ]
    },
    {
     "name": "stdout",
     "output_type": "stream",
     "text": [
      "Predicted score mean: 0.06728705748616164 std: 0.1546212272569815\n",
      "True score mean: 0.02139059140490348 std: 1.5484042411136876\n"
     ]
    },
    {
     "name": "stderr",
     "output_type": "stream",
     "text": [
      "Training: 100%|███████████████████████████████████| 2/2 [00:01<00:00,  1.44it/s]\n"
     ]
    },
    {
     "name": "stdout",
     "output_type": "stream",
     "text": [
      "[Epoch 7] Loss: 710.852271\n",
      "Epoch 8\n"
     ]
    },
    {
     "name": "stderr",
     "output_type": "stream",
     "text": [
      "Training:   0%|                                           | 0/2 [00:00<?, ?it/s]"
     ]
    },
    {
     "name": "stdout",
     "output_type": "stream",
     "text": [
      "Predicted score mean: 0.08972804222799614 std: 0.15004986156759884\n",
      "True score mean: 0.0013186659693588474 std: 1.8040405762012868\n"
     ]
    },
    {
     "name": "stderr",
     "output_type": "stream",
     "text": [
      "Training:  50%|█████████████████▌                 | 1/2 [00:00<00:00,  1.48it/s]"
     ]
    },
    {
     "name": "stdout",
     "output_type": "stream",
     "text": [
      "Predicted score mean: 0.08660483705583992 std: 0.11013939363263703\n",
      "True score mean: -0.007380195751630573 std: 1.3357427368374986\n"
     ]
    },
    {
     "name": "stderr",
     "output_type": "stream",
     "text": [
      "Training: 100%|███████████████████████████████████| 2/2 [00:01<00:00,  1.46it/s]\n"
     ]
    },
    {
     "name": "stdout",
     "output_type": "stream",
     "text": [
      "[Epoch 8] Loss: 855.353512\n",
      "Epoch 9\n"
     ]
    },
    {
     "name": "stderr",
     "output_type": "stream",
     "text": [
      "Training:   0%|                                           | 0/2 [00:00<?, ?it/s]"
     ]
    },
    {
     "name": "stdout",
     "output_type": "stream",
     "text": [
      "Predicted score mean: 0.06994739457668427 std: 0.0748100258006372\n",
      "True score mean: 0.0058250457507057745 std: 1.6407007062639765\n"
     ]
    },
    {
     "name": "stderr",
     "output_type": "stream",
     "text": [
      "Training:  50%|█████████████████▌                 | 1/2 [00:00<00:00,  1.45it/s]"
     ]
    },
    {
     "name": "stdout",
     "output_type": "stream",
     "text": [
      "Predicted score mean: 0.047155210259415936 std: 0.05590775694782812\n",
      "True score mean: 0.004131330882291202 std: 1.6174683044375562\n"
     ]
    },
    {
     "name": "stderr",
     "output_type": "stream",
     "text": [
      "Training: 100%|███████████████████████████████████| 2/2 [00:01<00:00,  1.44it/s]\n"
     ]
    },
    {
     "name": "stdout",
     "output_type": "stream",
     "text": [
      "[Epoch 9] Loss: 819.704598\n",
      "Epoch 10\n"
     ]
    },
    {
     "name": "stderr",
     "output_type": "stream",
     "text": [
      "Training:   0%|                                           | 0/2 [00:00<?, ?it/s]"
     ]
    },
    {
     "name": "stdout",
     "output_type": "stream",
     "text": [
      "Predicted score mean: 0.026342190691339536 std: 0.0682833888292964\n",
      "True score mean: -0.00287119176247589 std: 1.4547674767369743\n"
     ]
    },
    {
     "name": "stderr",
     "output_type": "stream",
     "text": [
      "Training:  50%|█████████████████▌                 | 1/2 [00:00<00:00,  1.41it/s]"
     ]
    },
    {
     "name": "stdout",
     "output_type": "stream",
     "text": [
      "Predicted score mean: 0.0020470284584670874 std: 0.0898060748762972\n",
      "True score mean: -0.01033579005128049 std: 1.2636003318870648\n"
     ]
    },
    {
     "name": "stderr",
     "output_type": "stream",
     "text": [
      "Training: 100%|███████████████████████████████████| 2/2 [00:01<00:00,  1.44it/s]\n"
     ]
    },
    {
     "name": "stdout",
     "output_type": "stream",
     "text": [
      "[Epoch 10] Loss: 358.114104\n",
      "Epoch 11\n"
     ]
    },
    {
     "name": "stderr",
     "output_type": "stream",
     "text": [
      "Training:   0%|                                           | 0/2 [00:00<?, ?it/s]"
     ]
    },
    {
     "name": "stdout",
     "output_type": "stream",
     "text": [
      "Predicted score mean: -0.0242702326911974 std: 0.10088523949844505\n",
      "True score mean: -0.01316627309288317 std: 1.395468233148887\n"
     ]
    },
    {
     "name": "stderr",
     "output_type": "stream",
     "text": [
      "Training:  50%|█████████████████▌                 | 1/2 [00:00<00:00,  1.42it/s]"
     ]
    },
    {
     "name": "stdout",
     "output_type": "stream",
     "text": [
      "Predicted score mean: -0.051985067935496065 std: 0.1111061503878579\n",
      "True score mean: 0.010745556666344542 std: 1.1929770241430016\n"
     ]
    },
    {
     "name": "stderr",
     "output_type": "stream",
     "text": [
      "Training: 100%|███████████████████████████████████| 2/2 [00:01<00:00,  1.44it/s]\n"
     ]
    },
    {
     "name": "stdout",
     "output_type": "stream",
     "text": [
      "[Epoch 11] Loss: 261.116134\n",
      "Epoch 12\n"
     ]
    },
    {
     "name": "stderr",
     "output_type": "stream",
     "text": [
      "Training:   0%|                                           | 0/2 [00:00<?, ?it/s]"
     ]
    },
    {
     "name": "stdout",
     "output_type": "stream",
     "text": [
      "Predicted score mean: -0.06400453755900451 std: 0.11252327698341515\n",
      "True score mean: 0.013393036550715281 std: 1.358450922642078\n"
     ]
    },
    {
     "name": "stderr",
     "output_type": "stream",
     "text": [
      "Training:  50%|█████████████████▌                 | 1/2 [00:00<00:00,  1.42it/s]"
     ]
    },
    {
     "name": "stdout",
     "output_type": "stream",
     "text": [
      "Predicted score mean: -0.06314670491253684 std: 0.10859926084149837\n",
      "True score mean: 0.01176527288882701 std: 1.3431472086481198\n"
     ]
    },
    {
     "name": "stderr",
     "output_type": "stream",
     "text": [
      "Training: 100%|███████████████████████████████████| 2/2 [00:01<00:00,  1.44it/s]\n"
     ]
    },
    {
     "name": "stdout",
     "output_type": "stream",
     "text": [
      "[Epoch 12] Loss: 369.847032\n",
      "Epoch 13\n"
     ]
    },
    {
     "name": "stderr",
     "output_type": "stream",
     "text": [
      "Training:   0%|                                           | 0/2 [00:00<?, ?it/s]"
     ]
    },
    {
     "name": "stdout",
     "output_type": "stream",
     "text": [
      "Predicted score mean: -0.039005439968213707 std: 0.08803776228322367\n",
      "True score mean: 0.013097578979864806 std: 1.2829170810573742\n"
     ]
    },
    {
     "name": "stderr",
     "output_type": "stream",
     "text": [
      "Training:  50%|█████████████████▌                 | 1/2 [00:00<00:00,  1.44it/s]"
     ]
    },
    {
     "name": "stdout",
     "output_type": "stream",
     "text": [
      "Predicted score mean: -0.0070300196244742095 std: 0.0646041314112025\n",
      "True score mean: 0.001773937184372802 std: 2.575415426048133\n"
     ]
    },
    {
     "name": "stderr",
     "output_type": "stream",
     "text": [
      "Training: 100%|███████████████████████████████████| 2/2 [00:01<00:00,  1.42it/s]\n"
     ]
    },
    {
     "name": "stdout",
     "output_type": "stream",
     "text": [
      "[Epoch 13] Loss: 1176.019472\n",
      "Epoch 14\n"
     ]
    },
    {
     "name": "stderr",
     "output_type": "stream",
     "text": [
      "Training:   0%|                                           | 0/2 [00:00<?, ?it/s]"
     ]
    },
    {
     "name": "stdout",
     "output_type": "stream",
     "text": [
      "Predicted score mean: 0.027440001183067293 std: 0.044665192871549804\n",
      "True score mean: 0.0056116239880256 std: 1.49105406164377\n"
     ]
    },
    {
     "name": "stderr",
     "output_type": "stream",
     "text": [
      "Training:  50%|█████████████████▌                 | 1/2 [00:00<00:00,  1.43it/s]"
     ]
    },
    {
     "name": "stdout",
     "output_type": "stream",
     "text": [
      "Predicted score mean: 0.056990994800168164 std: 0.03402919399253826\n",
      "True score mean: 0.018451464217947983 std: 1.235560454023992\n"
     ]
    },
    {
     "name": "stderr",
     "output_type": "stream",
     "text": [
      "Training: 100%|███████████████████████████████████| 2/2 [00:01<00:00,  1.45it/s]\n"
     ]
    },
    {
     "name": "stdout",
     "output_type": "stream",
     "text": [
      "[Epoch 14] Loss: 338.993675\n",
      "Epoch 15\n"
     ]
    },
    {
     "name": "stderr",
     "output_type": "stream",
     "text": [
      "Training:   0%|                                           | 0/2 [00:00<?, ?it/s]"
     ]
    },
    {
     "name": "stdout",
     "output_type": "stream",
     "text": [
      "Predicted score mean: 0.07688335726046734 std: 0.03734665547157664\n",
      "True score mean: -0.01228893283460383 std: 1.9567427469211534\n"
     ]
    },
    {
     "name": "stderr",
     "output_type": "stream",
     "text": [
      "Training:  50%|█████████████████▌                 | 1/2 [00:00<00:00,  1.42it/s]"
     ]
    },
    {
     "name": "stdout",
     "output_type": "stream",
     "text": [
      "Predicted score mean: 0.08277746519303933 std: 0.04727250290837862\n",
      "True score mean: -0.014108702111262523 std: 1.9453731412381672\n"
     ]
    },
    {
     "name": "stderr",
     "output_type": "stream",
     "text": [
      "Training: 100%|███████████████████████████████████| 2/2 [00:01<00:00,  1.45it/s]\n"
     ]
    },
    {
     "name": "stdout",
     "output_type": "stream",
     "text": [
      "[Epoch 15] Loss: 1411.564545\n",
      "Epoch 16\n"
     ]
    },
    {
     "name": "stderr",
     "output_type": "stream",
     "text": [
      "Training:   0%|                                           | 0/2 [00:00<?, ?it/s]"
     ]
    },
    {
     "name": "stdout",
     "output_type": "stream",
     "text": [
      "Predicted score mean: 0.06324132271223198 std: 0.04569589968697804\n",
      "True score mean: -0.004779779028774322 std: 1.5205150073560674\n"
     ]
    },
    {
     "name": "stderr",
     "output_type": "stream",
     "text": [
      "Training:  50%|█████████████████▌                 | 1/2 [00:00<00:00,  1.43it/s]"
     ]
    },
    {
     "name": "stdout",
     "output_type": "stream",
     "text": [
      "Predicted score mean: 0.03968739783632242 std: 0.04132269275398327\n",
      "True score mean: 0.0062564432114692505 std: 1.404240232989029\n"
     ]
    },
    {
     "name": "stderr",
     "output_type": "stream",
     "text": [
      "Training: 100%|███████████████████████████████████| 2/2 [00:01<00:00,  1.45it/s]\n"
     ]
    },
    {
     "name": "stdout",
     "output_type": "stream",
     "text": [
      "[Epoch 16] Loss: 511.389176\n",
      "Epoch 17\n"
     ]
    },
    {
     "name": "stderr",
     "output_type": "stream",
     "text": [
      "Training:   0%|                                           | 0/2 [00:00<?, ?it/s]"
     ]
    },
    {
     "name": "stdout",
     "output_type": "stream",
     "text": [
      "Predicted score mean: 0.00970297716729779 std: 0.0400616293492476\n",
      "True score mean: 0.011248724081917977 std: 1.4519595887070809\n"
     ]
    },
    {
     "name": "stderr",
     "output_type": "stream",
     "text": [
      "Training:  50%|█████████████████▌                 | 1/2 [00:00<00:00,  1.40it/s]"
     ]
    },
    {
     "name": "stdout",
     "output_type": "stream",
     "text": [
      "Predicted score mean: -0.016354810524703528 std: 0.032977127842814105\n",
      "True score mean: -0.005610178217962537 std: 1.7447971185088273\n"
     ]
    },
    {
     "name": "stderr",
     "output_type": "stream",
     "text": [
      "Training: 100%|███████████████████████████████████| 2/2 [00:01<00:00,  1.35it/s]\n"
     ]
    },
    {
     "name": "stdout",
     "output_type": "stream",
     "text": [
      "[Epoch 17] Loss: 844.314626\n",
      "Epoch 18\n"
     ]
    },
    {
     "name": "stderr",
     "output_type": "stream",
     "text": [
      "Training:   0%|                                           | 0/2 [00:00<?, ?it/s]"
     ]
    },
    {
     "name": "stdout",
     "output_type": "stream",
     "text": [
      "Predicted score mean: -0.03205353059520662 std: 0.016033727799973325\n",
      "True score mean: 0.020844708279545026 std: 1.6432072299607408\n"
     ]
    },
    {
     "name": "stderr",
     "output_type": "stream",
     "text": [
      "Training:  50%|█████████████████▌                 | 1/2 [00:00<00:00,  1.43it/s]"
     ]
    },
    {
     "name": "stdout",
     "output_type": "stream",
     "text": [
      "Predicted score mean: -0.025969390547808495 std: 0.04071751758918636\n",
      "True score mean: 0.016385587818052154 std: 1.5502846163458122\n"
     ]
    },
    {
     "name": "stderr",
     "output_type": "stream",
     "text": [
      "Training: 100%|███████████████████████████████████| 2/2 [00:01<00:00,  1.41it/s]\n"
     ]
    },
    {
     "name": "stdout",
     "output_type": "stream",
     "text": [
      "[Epoch 18] Loss: 782.561515\n",
      "Epoch 19\n"
     ]
    },
    {
     "name": "stderr",
     "output_type": "stream",
     "text": [
      "Training:   0%|                                           | 0/2 [00:00<?, ?it/s]"
     ]
    },
    {
     "name": "stdout",
     "output_type": "stream",
     "text": [
      "Predicted score mean: -0.011874027002486355 std: 0.07184036128637\n",
      "True score mean: -0.016651115090550866 std: 1.6122794104624516\n"
     ]
    },
    {
     "name": "stderr",
     "output_type": "stream",
     "text": [
      "Training:  50%|█████████████████▌                 | 1/2 [00:00<00:00,  1.43it/s]"
     ]
    },
    {
     "name": "stdout",
     "output_type": "stream",
     "text": [
      "Predicted score mean: -0.0031881669797764215 std: 0.10039324639095742\n",
      "True score mean: -0.0073110376368051575 std: 1.1903323369030452\n"
     ]
    },
    {
     "name": "stderr",
     "output_type": "stream",
     "text": [
      "Training: 100%|███████████████████████████████████| 2/2 [00:01<00:00,  1.45it/s]\n"
     ]
    },
    {
     "name": "stdout",
     "output_type": "stream",
     "text": [
      "[Epoch 19] Loss: 372.368761\n",
      "Epoch 20\n"
     ]
    },
    {
     "name": "stderr",
     "output_type": "stream",
     "text": [
      "Training:   0%|                                           | 0/2 [00:00<?, ?it/s]"
     ]
    },
    {
     "name": "stdout",
     "output_type": "stream",
     "text": [
      "Predicted score mean: 0.0036771964801546974 std: 0.11895152039997331\n",
      "True score mean: 0.006533627439368614 std: 1.588205658503679\n"
     ]
    },
    {
     "name": "stderr",
     "output_type": "stream",
     "text": [
      "Training:  50%|█████████████████▌                 | 1/2 [00:00<00:00,  1.42it/s]"
     ]
    },
    {
     "name": "stdout",
     "output_type": "stream",
     "text": [
      "Predicted score mean: 0.007921174001942111 std: 0.12511844154601942\n",
      "True score mean: 0.014211503771793766 std: 1.5447898696301559\n"
     ]
    },
    {
     "name": "stderr",
     "output_type": "stream",
     "text": [
      "Training: 100%|███████████████████████████████████| 2/2 [00:01<00:00,  1.43it/s]\n"
     ]
    },
    {
     "name": "stdout",
     "output_type": "stream",
     "text": [
      "[Epoch 20] Loss: 684.678952\n",
      "Epoch 21\n"
     ]
    },
    {
     "name": "stderr",
     "output_type": "stream",
     "text": [
      "Training:   0%|                                           | 0/2 [00:00<?, ?it/s]"
     ]
    },
    {
     "name": "stdout",
     "output_type": "stream",
     "text": [
      "Predicted score mean: 0.016759329177503404 std: 0.11695533190921234\n",
      "True score mean: 0.006025741133750509 std: 1.8177447067900987\n"
     ]
    },
    {
     "name": "stderr",
     "output_type": "stream",
     "text": [
      "Training:  50%|█████████████████▌                 | 1/2 [00:00<00:00,  1.41it/s]"
     ]
    },
    {
     "name": "stdout",
     "output_type": "stream",
     "text": [
      "Predicted score mean: 0.022204531726354636 std: 0.0998620305086969\n",
      "True score mean: 0.005075928854775431 std: 1.6087232944056602\n"
     ]
    },
    {
     "name": "stderr",
     "output_type": "stream",
     "text": [
      "Training: 100%|███████████████████████████████████| 2/2 [00:01<00:00,  1.41it/s]\n"
     ]
    },
    {
     "name": "stdout",
     "output_type": "stream",
     "text": [
      "[Epoch 21] Loss: 914.404005\n",
      "Epoch 22\n"
     ]
    },
    {
     "name": "stderr",
     "output_type": "stream",
     "text": [
      "Training:   0%|                                           | 0/2 [00:00<?, ?it/s]"
     ]
    },
    {
     "name": "stdout",
     "output_type": "stream",
     "text": [
      "Predicted score mean: 0.014897268038463555 std: 0.060931761879829203\n",
      "True score mean: 0.01174804204446258 std: 2.686200948973995\n"
     ]
    },
    {
     "name": "stderr",
     "output_type": "stream",
     "text": [
      "Training:  50%|█████████████████▌                 | 1/2 [00:00<00:00,  1.41it/s]"
     ]
    },
    {
     "name": "stdout",
     "output_type": "stream",
     "text": [
      "Predicted score mean: 0.01109221497212276 std: 0.045752362642732726\n",
      "True score mean: -0.0038348562645395944 std: 1.3260905397210574\n"
     ]
    },
    {
     "name": "stderr",
     "output_type": "stream",
     "text": [
      "Training: 100%|███████████████████████████████████| 2/2 [00:01<00:00,  1.44it/s]\n"
     ]
    },
    {
     "name": "stdout",
     "output_type": "stream",
     "text": [
      "[Epoch 22] Loss: 1311.141118\n",
      "Epoch 23\n"
     ]
    },
    {
     "name": "stderr",
     "output_type": "stream",
     "text": [
      "Training:   0%|                                           | 0/2 [00:00<?, ?it/s]"
     ]
    },
    {
     "name": "stdout",
     "output_type": "stream",
     "text": [
      "Predicted score mean: -0.0006987628623269889 std: 0.06453326404209513\n",
      "True score mean: -0.012987048567006887 std: 1.5945181296405746\n"
     ]
    },
    {
     "name": "stderr",
     "output_type": "stream",
     "text": [
      "Training:  50%|█████████████████▌                 | 1/2 [00:00<00:00,  1.42it/s]"
     ]
    },
    {
     "name": "stdout",
     "output_type": "stream",
     "text": [
      "Predicted score mean: -0.012206518496772638 std: 0.09193494723445138\n",
      "True score mean: -0.0009299801304075097 std: 1.4705638123044644\n"
     ]
    },
    {
     "name": "stderr",
     "output_type": "stream",
     "text": [
      "Training: 100%|███████████████████████████████████| 2/2 [00:01<00:00,  1.45it/s]\n"
     ]
    },
    {
     "name": "stdout",
     "output_type": "stream",
     "text": [
      "[Epoch 23] Loss: 637.813577\n",
      "Epoch 24\n"
     ]
    },
    {
     "name": "stderr",
     "output_type": "stream",
     "text": [
      "Training:   0%|                                           | 0/2 [00:00<?, ?it/s]"
     ]
    },
    {
     "name": "stdout",
     "output_type": "stream",
     "text": [
      "Predicted score mean: -0.0171219254660523 std: 0.10335475466882117\n",
      "True score mean: 0.0035534939103481662 std: 1.4820105492555669\n"
     ]
    },
    {
     "name": "stderr",
     "output_type": "stream",
     "text": [
      "Training:  50%|█████████████████▌                 | 1/2 [00:00<00:00,  1.42it/s]"
     ]
    },
    {
     "name": "stdout",
     "output_type": "stream",
     "text": [
      "Predicted score mean: -0.020040374182554405 std: 0.11090564044406756\n",
      "True score mean: 0.006030769888726616 std: 1.546854896751142\n"
     ]
    },
    {
     "name": "stderr",
     "output_type": "stream",
     "text": [
      "Training: 100%|███████████████████████████████████| 2/2 [00:01<00:00,  1.42it/s]\n"
     ]
    },
    {
     "name": "stdout",
     "output_type": "stream",
     "text": [
      "[Epoch 24] Loss: 630.074596\n",
      "Epoch 25\n"
     ]
    },
    {
     "name": "stderr",
     "output_type": "stream",
     "text": [
      "Training:   0%|                                           | 0/2 [00:00<?, ?it/s]"
     ]
    },
    {
     "name": "stdout",
     "output_type": "stream",
     "text": [
      "Predicted score mean: -0.005815625761090925 std: 0.08778228648327906\n",
      "True score mean: -0.019842156942765785 std: 1.2289645896827162\n"
     ]
    },
    {
     "name": "stderr",
     "output_type": "stream",
     "text": [
      "Training:  50%|█████████████████▌                 | 1/2 [00:00<00:00,  1.48it/s]"
     ]
    },
    {
     "name": "stdout",
     "output_type": "stream",
     "text": [
      "Predicted score mean: 0.009767457921577767 std: 0.055809312466867045\n",
      "True score mean: 0.0038187989633550867 std: 1.9196722654810483\n"
     ]
    },
    {
     "name": "stderr",
     "output_type": "stream",
     "text": [
      "Training: 100%|███████████████████████████████████| 2/2 [00:01<00:00,  1.45it/s]\n"
     ]
    },
    {
     "name": "stdout",
     "output_type": "stream",
     "text": [
      "[Epoch 25] Loss: 601.744614\n",
      "Epoch 26\n"
     ]
    },
    {
     "name": "stderr",
     "output_type": "stream",
     "text": [
      "Training:   0%|                                           | 0/2 [00:00<?, ?it/s]"
     ]
    },
    {
     "name": "stdout",
     "output_type": "stream",
     "text": [
      "Predicted score mean: 0.021004057545950118 std: 0.03967932363036328\n",
      "True score mean: 0.019728161052741357 std: 1.5236834818592506\n"
     ]
    },
    {
     "name": "stderr",
     "output_type": "stream",
     "text": [
      "Training:  50%|█████████████████▌                 | 1/2 [00:00<00:00,  1.48it/s]"
     ]
    },
    {
     "name": "stdout",
     "output_type": "stream",
     "text": [
      "Predicted score mean: 0.04657359828604341 std: 0.053482411725423014\n",
      "True score mean: -0.0063930555415639845 std: 1.4413295305115663\n"
     ]
    },
    {
     "name": "stderr",
     "output_type": "stream",
     "text": [
      "Training: 100%|███████████████████████████████████| 2/2 [00:01<00:00,  1.45it/s]\n"
     ]
    },
    {
     "name": "stdout",
     "output_type": "stream",
     "text": [
      "[Epoch 26] Loss: 576.224680\n",
      "Epoch 27\n"
     ]
    },
    {
     "name": "stderr",
     "output_type": "stream",
     "text": [
      "Training:   0%|                                           | 0/2 [00:00<?, ?it/s]"
     ]
    },
    {
     "name": "stdout",
     "output_type": "stream",
     "text": [
      "Predicted score mean: 0.0616334715455281 std: 0.0833000363965369\n",
      "True score mean: 1.7311639810907533e-05 std: 1.4366297954186875\n"
     ]
    },
    {
     "name": "stderr",
     "output_type": "stream",
     "text": [
      "Training:  50%|█████████████████▌                 | 1/2 [00:00<00:00,  1.38it/s]"
     ]
    },
    {
     "name": "stdout",
     "output_type": "stream",
     "text": [
      "Predicted score mean: 0.06856141950339725 std: 0.10274829805764871\n",
      "True score mean: 0.014167355354062425 std: 1.326234304757523\n"
     ]
    },
    {
     "name": "stderr",
     "output_type": "stream",
     "text": [
      "Training: 100%|███████████████████████████████████| 2/2 [00:01<00:00,  1.39it/s]\n"
     ]
    },
    {
     "name": "stdout",
     "output_type": "stream",
     "text": [
      "[Epoch 27] Loss: 391.159553\n",
      "Epoch 28\n"
     ]
    },
    {
     "name": "stderr",
     "output_type": "stream",
     "text": [
      "Training:   0%|                                           | 0/2 [00:00<?, ?it/s]"
     ]
    },
    {
     "name": "stdout",
     "output_type": "stream",
     "text": [
      "Predicted score mean: 0.06320278837844023 std: 0.09350417949569383\n",
      "True score mean: -0.013465160772373952 std: 1.5884296702964626\n"
     ]
    },
    {
     "name": "stderr",
     "output_type": "stream",
     "text": [
      "Training:  50%|█████████████████▌                 | 1/2 [00:00<00:00,  1.48it/s]"
     ]
    },
    {
     "name": "stdout",
     "output_type": "stream",
     "text": [
      "Predicted score mean: 0.032406396251627854 std: 0.05509434504131918\n",
      "True score mean: -0.00230761847303091 std: 1.3839444812925024\n"
     ]
    },
    {
     "name": "stderr",
     "output_type": "stream",
     "text": [
      "Training: 100%|███████████████████████████████████| 2/2 [00:01<00:00,  1.35it/s]\n"
     ]
    },
    {
     "name": "stdout",
     "output_type": "stream",
     "text": [
      "[Epoch 28] Loss: 616.471758\n",
      "Epoch 29\n"
     ]
    },
    {
     "name": "stderr",
     "output_type": "stream",
     "text": [
      "Training:   0%|                                           | 0/2 [00:00<?, ?it/s]"
     ]
    },
    {
     "name": "stdout",
     "output_type": "stream",
     "text": [
      "Predicted score mean: 0.000224938504724235 std: 0.014877047324875017\n",
      "True score mean: -2.939915440188331e-05 std: 1.2511003871277395\n"
     ]
    },
    {
     "name": "stderr",
     "output_type": "stream",
     "text": [
      "Training:  50%|█████████████████▌                 | 1/2 [00:00<00:00,  1.47it/s]"
     ]
    },
    {
     "name": "stdout",
     "output_type": "stream",
     "text": [
      "Predicted score mean: -0.0337345366230285 std: 0.030182741742205192\n",
      "True score mean: 0.015209746695578695 std: 1.6912618634575236\n"
     ]
    },
    {
     "name": "stderr",
     "output_type": "stream",
     "text": [
      "Training: 100%|███████████████████████████████████| 2/2 [00:01<00:00,  1.46it/s]\n"
     ]
    },
    {
     "name": "stdout",
     "output_type": "stream",
     "text": [
      "[Epoch 29] Loss: 470.649033\n",
      "Epoch 30\n"
     ]
    },
    {
     "name": "stderr",
     "output_type": "stream",
     "text": [
      "Training:   0%|                                           | 0/2 [00:00<?, ?it/s]"
     ]
    },
    {
     "name": "stdout",
     "output_type": "stream",
     "text": [
      "Predicted score mean: -0.05894754951410818 std: 0.06948775306228107\n",
      "True score mean: 0.006307291047274832 std: 1.3172999853865996\n"
     ]
    },
    {
     "name": "stderr",
     "output_type": "stream",
     "text": [
      "Training:  50%|█████████████████▌                 | 1/2 [00:00<00:00,  1.48it/s]"
     ]
    },
    {
     "name": "stdout",
     "output_type": "stream",
     "text": [
      "Predicted score mean: -0.06909162151230795 std: 0.08874843920887898\n",
      "True score mean: -0.011849762851564694 std: 1.6638441050747375\n"
     ]
    },
    {
     "name": "stderr",
     "output_type": "stream",
     "text": [
      "Training: 100%|███████████████████████████████████| 2/2 [00:01<00:00,  1.47it/s]\n"
     ]
    },
    {
     "name": "stdout",
     "output_type": "stream",
     "text": [
      "[Epoch 30] Loss: 500.506546\n",
      "Epoch 31\n"
     ]
    },
    {
     "name": "stderr",
     "output_type": "stream",
     "text": [
      "Training:   0%|                                           | 0/2 [00:00<?, ?it/s]"
     ]
    },
    {
     "name": "stdout",
     "output_type": "stream",
     "text": [
      "Predicted score mean: -0.07193506656739361 std: 0.09430604550506237\n",
      "True score mean: 0.02264825250962315 std: 1.560488673490871\n"
     ]
    },
    {
     "name": "stderr",
     "output_type": "stream",
     "text": [
      "Training:  50%|█████████████████▌                 | 1/2 [00:00<00:00,  1.11it/s]"
     ]
    },
    {
     "name": "stdout",
     "output_type": "stream",
     "text": [
      "Predicted score mean: -0.0611975430870189 std: 0.09702014541251511\n",
      "True score mean: -0.016007741651061908 std: 1.4071759994315123\n"
     ]
    },
    {
     "name": "stderr",
     "output_type": "stream",
     "text": [
      "Training: 100%|███████████████████████████████████| 2/2 [00:01<00:00,  1.27it/s]\n"
     ]
    },
    {
     "name": "stdout",
     "output_type": "stream",
     "text": [
      "[Epoch 31] Loss: 521.788276\n",
      "Epoch 32\n"
     ]
    },
    {
     "name": "stderr",
     "output_type": "stream",
     "text": [
      "Training:   0%|                                           | 0/2 [00:00<?, ?it/s]"
     ]
    },
    {
     "name": "stdout",
     "output_type": "stream",
     "text": [
      "Predicted score mean: -0.049468135883145276 std: 0.08255857726171992\n",
      "True score mean: -0.0030542564396914725 std: 1.8281561782678595\n"
     ]
    },
    {
     "name": "stderr",
     "output_type": "stream",
     "text": [
      "Training:  50%|█████████████████▌                 | 1/2 [00:00<00:00,  1.43it/s]"
     ]
    },
    {
     "name": "stdout",
     "output_type": "stream",
     "text": [
      "Predicted score mean: -0.027755189538158496 std: 0.05919222722510308\n",
      "True score mean: 0.013484097186207656 std: 1.7600729712811696\n"
     ]
    },
    {
     "name": "stderr",
     "output_type": "stream",
     "text": [
      "Training: 100%|███████████████████████████████████| 2/2 [00:01<00:00,  1.45it/s]\n"
     ]
    },
    {
     "name": "stdout",
     "output_type": "stream",
     "text": [
      "[Epoch 32] Loss: 1097.021368\n",
      "Epoch 33\n"
     ]
    },
    {
     "name": "stderr",
     "output_type": "stream",
     "text": [
      "Training:   0%|                                           | 0/2 [00:00<?, ?it/s]"
     ]
    },
    {
     "name": "stdout",
     "output_type": "stream",
     "text": [
      "Predicted score mean: -0.003630088455519274 std: 0.036659339226349535\n",
      "True score mean: 0.01195740554061323 std: 1.540361706511744\n"
     ]
    },
    {
     "name": "stderr",
     "output_type": "stream",
     "text": [
      "Training:  50%|█████████████████▌                 | 1/2 [00:00<00:00,  1.49it/s]"
     ]
    },
    {
     "name": "stdout",
     "output_type": "stream",
     "text": [
      "Predicted score mean: 0.01735876254565717 std: 0.026453125753674405\n",
      "True score mean: 0.002281787158197567 std: 1.3760039765745946\n"
     ]
    },
    {
     "name": "stderr",
     "output_type": "stream",
     "text": [
      "Training: 100%|███████████████████████████████████| 2/2 [00:01<00:00,  1.46it/s]\n"
     ]
    },
    {
     "name": "stdout",
     "output_type": "stream",
     "text": [
      "[Epoch 33] Loss: 587.789681\n",
      "Epoch 34\n"
     ]
    },
    {
     "name": "stderr",
     "output_type": "stream",
     "text": [
      "Training:   0%|                                           | 0/2 [00:00<?, ?it/s]"
     ]
    },
    {
     "name": "stdout",
     "output_type": "stream",
     "text": [
      "Predicted score mean: 0.036174130554828265 std: 0.01467259285559839\n",
      "True score mean: 0.011013524309869847 std: 1.4237169655770612\n"
     ]
    },
    {
     "name": "stderr",
     "output_type": "stream",
     "text": [
      "Training:  50%|█████████████████▌                 | 1/2 [00:00<00:00,  1.49it/s]"
     ]
    },
    {
     "name": "stdout",
     "output_type": "stream",
     "text": [
      "Predicted score mean: 0.04332336483494231 std: 0.013165453600565117\n",
      "True score mean: 0.018546903308416008 std: 1.632064545562436\n"
     ]
    },
    {
     "name": "stderr",
     "output_type": "stream",
     "text": [
      "Training: 100%|███████████████████████████████████| 2/2 [00:01<00:00,  1.46it/s]\n"
     ]
    },
    {
     "name": "stdout",
     "output_type": "stream",
     "text": [
      "[Epoch 34] Loss: 619.301565\n",
      "Epoch 35\n"
     ]
    },
    {
     "name": "stderr",
     "output_type": "stream",
     "text": [
      "Training:   0%|                                           | 0/2 [00:00<?, ?it/s]"
     ]
    },
    {
     "name": "stdout",
     "output_type": "stream",
     "text": [
      "Predicted score mean: 0.05372204763776523 std: 0.020609059916703358\n",
      "True score mean: -0.016952296081853262 std: 1.759441525691252\n"
     ]
    },
    {
     "name": "stderr",
     "output_type": "stream",
     "text": [
      "Training:  50%|█████████████████▌                 | 1/2 [00:00<00:00,  1.44it/s]"
     ]
    },
    {
     "name": "stdout",
     "output_type": "stream",
     "text": [
      "Predicted score mean: 0.05302937708988376 std: 0.02841334472760164\n",
      "True score mean: -0.013420036428470207 std: 1.453546769757249\n"
     ]
    },
    {
     "name": "stderr",
     "output_type": "stream",
     "text": [
      "Training: 100%|███████████████████████████████████| 2/2 [00:01<00:00,  1.46it/s]\n"
     ]
    },
    {
     "name": "stdout",
     "output_type": "stream",
     "text": [
      "[Epoch 35] Loss: 708.641909\n",
      "Epoch 36\n"
     ]
    },
    {
     "name": "stderr",
     "output_type": "stream",
     "text": [
      "Training:   0%|                                           | 0/2 [00:00<?, ?it/s]"
     ]
    },
    {
     "name": "stdout",
     "output_type": "stream",
     "text": [
      "Predicted score mean: 0.0362669181539902 std: 0.03034160505348715\n",
      "True score mean: 0.008887475102210727 std: 2.061666035669097\n"
     ]
    },
    {
     "name": "stderr",
     "output_type": "stream",
     "text": [
      "Training:  50%|█████████████████▌                 | 1/2 [00:00<00:00,  1.44it/s]"
     ]
    },
    {
     "name": "stdout",
     "output_type": "stream",
     "text": [
      "Predicted score mean: 0.016874534280230523 std: 0.03404987592888162\n",
      "True score mean: 0.0012878938862749265 std: 1.4467479628427486\n"
     ]
    },
    {
     "name": "stderr",
     "output_type": "stream",
     "text": [
      "Training: 100%|███████████████████████████████████| 2/2 [00:01<00:00,  1.46it/s]\n"
     ]
    },
    {
     "name": "stdout",
     "output_type": "stream",
     "text": [
      "[Epoch 36] Loss: 883.726790\n",
      "Epoch 37\n"
     ]
    },
    {
     "name": "stderr",
     "output_type": "stream",
     "text": [
      "Training:   0%|                                           | 0/2 [00:00<?, ?it/s]"
     ]
    },
    {
     "name": "stdout",
     "output_type": "stream",
     "text": [
      "Predicted score mean: -0.004093485723037052 std: 0.04213192147728353\n",
      "True score mean: 0.011142699691691446 std: 1.3497437725461705\n"
     ]
    },
    {
     "name": "stderr",
     "output_type": "stream",
     "text": [
      "Training:  50%|█████████████████▌                 | 1/2 [00:00<00:00,  1.50it/s]"
     ]
    },
    {
     "name": "stdout",
     "output_type": "stream",
     "text": [
      "Predicted score mean: -0.029795337786444113 std: 0.04228685989359737\n",
      "True score mean: -0.007693204587395875 std: 1.43095796442236\n"
     ]
    },
    {
     "name": "stderr",
     "output_type": "stream",
     "text": [
      "Training: 100%|███████████████████████████████████| 2/2 [00:01<00:00,  1.47it/s]\n"
     ]
    },
    {
     "name": "stdout",
     "output_type": "stream",
     "text": [
      "[Epoch 37] Loss: 413.704999\n",
      "Epoch 38\n"
     ]
    },
    {
     "name": "stderr",
     "output_type": "stream",
     "text": [
      "Training:   0%|                                           | 0/2 [00:00<?, ?it/s]"
     ]
    },
    {
     "name": "stdout",
     "output_type": "stream",
     "text": [
      "Predicted score mean: -0.04990769585390133 std: 0.039944799768113375\n",
      "True score mean: -0.013799323241021972 std: 1.2781371552320642\n"
     ]
    },
    {
     "name": "stderr",
     "output_type": "stream",
     "text": [
      "Training:  50%|█████████████████▌                 | 1/2 [00:00<00:00,  1.49it/s]"
     ]
    },
    {
     "name": "stdout",
     "output_type": "stream",
     "text": [
      "Predicted score mean: -0.06302424368271464 std: 0.029383038416395623\n",
      "True score mean: 0.012629903254916218 std: 1.6191361595024638\n"
     ]
    },
    {
     "name": "stderr",
     "output_type": "stream",
     "text": [
      "Training: 100%|███████████████████████████████████| 2/2 [00:01<00:00,  1.46it/s]\n"
     ]
    },
    {
     "name": "stdout",
     "output_type": "stream",
     "text": [
      "[Epoch 38] Loss: 447.475453\n",
      "Epoch 39\n"
     ]
    },
    {
     "name": "stderr",
     "output_type": "stream",
     "text": [
      "Training:   0%|                                           | 0/2 [00:00<?, ?it/s]"
     ]
    },
    {
     "name": "stdout",
     "output_type": "stream",
     "text": [
      "Predicted score mean: -0.06785010401123033 std: 0.026821456578210556\n",
      "True score mean: -0.0009365948069605412 std: 1.3581005656536482\n"
     ]
    },
    {
     "name": "stderr",
     "output_type": "stream",
     "text": [
      "Training:  50%|█████████████████▌                 | 1/2 [00:00<00:00,  1.49it/s]"
     ]
    },
    {
     "name": "stdout",
     "output_type": "stream",
     "text": [
      "Predicted score mean: -0.058043615011300856 std: 0.024036337171185106\n",
      "True score mean: 1.4411084600173375e-05 std: 1.4943894644502427\n"
     ]
    },
    {
     "name": "stderr",
     "output_type": "stream",
     "text": [
      "Training: 100%|███████████████████████████████████| 2/2 [00:01<00:00,  1.46it/s]\n"
     ]
    },
    {
     "name": "stdout",
     "output_type": "stream",
     "text": [
      "[Epoch 39] Loss: 466.522318\n",
      "Epoch 40\n"
     ]
    },
    {
     "name": "stderr",
     "output_type": "stream",
     "text": [
      "Training:   0%|                                           | 0/2 [00:00<?, ?it/s]"
     ]
    },
    {
     "name": "stdout",
     "output_type": "stream",
     "text": [
      "Predicted score mean: -0.041728580877798335 std: 0.03317687360081242\n",
      "True score mean: -0.008538297067799343 std: 1.2722518278840007\n"
     ]
    },
    {
     "name": "stderr",
     "output_type": "stream",
     "text": [
      "Training:  50%|█████████████████▌                 | 1/2 [00:00<00:00,  1.49it/s]"
     ]
    },
    {
     "name": "stdout",
     "output_type": "stream",
     "text": [
      "Predicted score mean: -0.0251690128201964 std: 0.04630011910831358\n",
      "True score mean: 0.0016320793203494074 std: 1.488049459066953\n"
     ]
    },
    {
     "name": "stderr",
     "output_type": "stream",
     "text": [
      "Training: 100%|███████████████████████████████████| 2/2 [00:01<00:00,  1.46it/s]\n"
     ]
    },
    {
     "name": "stdout",
     "output_type": "stream",
     "text": [
      "[Epoch 40] Loss: 363.939880\n",
      "Epoch 41\n"
     ]
    },
    {
     "name": "stderr",
     "output_type": "stream",
     "text": [
      "Training:   0%|                                           | 0/2 [00:00<?, ?it/s]"
     ]
    },
    {
     "name": "stdout",
     "output_type": "stream",
     "text": [
      "Predicted score mean: -0.009472061558610662 std: 0.05566488085366331\n",
      "True score mean: 0.0021010630231831024 std: 1.4720918489887473\n"
     ]
    },
    {
     "name": "stderr",
     "output_type": "stream",
     "text": [
      "Training:  50%|█████████████████▌                 | 1/2 [00:00<00:00,  1.45it/s]"
     ]
    },
    {
     "name": "stdout",
     "output_type": "stream",
     "text": [
      "Predicted score mean: 0.008216566230799008 std: 0.06109860041999703\n",
      "True score mean: -0.0021401211111376555 std: 1.978457812122418\n"
     ]
    },
    {
     "name": "stderr",
     "output_type": "stream",
     "text": [
      "Training: 100%|███████████████████████████████████| 2/2 [00:01<00:00,  1.47it/s]\n"
     ]
    },
    {
     "name": "stdout",
     "output_type": "stream",
     "text": [
      "[Epoch 41] Loss: 1155.879626\n",
      "Epoch 42\n"
     ]
    },
    {
     "name": "stderr",
     "output_type": "stream",
     "text": [
      "Training:   0%|                                           | 0/2 [00:00<?, ?it/s]"
     ]
    },
    {
     "name": "stdout",
     "output_type": "stream",
     "text": [
      "Predicted score mean: 0.03352665705563294 std: 0.057292696469873595\n",
      "True score mean: -0.017300924784677367 std: 2.1087549225977766\n"
     ]
    },
    {
     "name": "stderr",
     "output_type": "stream",
     "text": [
      "Training:  50%|█████████████████▌                 | 1/2 [00:00<00:00,  1.45it/s]"
     ]
    },
    {
     "name": "stdout",
     "output_type": "stream",
     "text": [
      "Predicted score mean: 0.03543110023103029 std: 0.031449123834830846\n",
      "True score mean: 0.0029939369827897038 std: 2.0295658849127607\n"
     ]
    },
    {
     "name": "stderr",
     "output_type": "stream",
     "text": [
      "Training: 100%|███████████████████████████████████| 2/2 [00:01<00:00,  1.43it/s]\n"
     ]
    },
    {
     "name": "stdout",
     "output_type": "stream",
     "text": [
      "[Epoch 42] Loss: 1705.078444\n",
      "Epoch 43\n"
     ]
    },
    {
     "name": "stderr",
     "output_type": "stream",
     "text": [
      "Training:   0%|                                           | 0/2 [00:00<?, ?it/s]"
     ]
    },
    {
     "name": "stdout",
     "output_type": "stream",
     "text": [
      "Predicted score mean: 0.033451057656764836 std: 0.016735557935103108\n",
      "True score mean: 0.006892176213353631 std: 1.3465696322052723\n"
     ]
    },
    {
     "name": "stderr",
     "output_type": "stream",
     "text": [
      "Training:  50%|█████████████████▌                 | 1/2 [00:00<00:00,  1.48it/s]"
     ]
    },
    {
     "name": "stdout",
     "output_type": "stream",
     "text": [
      "Predicted score mean: 0.0226343102423521 std: 0.042826658265222486\n",
      "True score mean: 0.011259968439918413 std: 1.7670278257379726\n"
     ]
    },
    {
     "name": "stderr",
     "output_type": "stream",
     "text": [
      "Training: 100%|███████████████████████████████████| 2/2 [00:01<00:00,  1.46it/s]\n"
     ]
    },
    {
     "name": "stdout",
     "output_type": "stream",
     "text": [
      "[Epoch 43] Loss: 592.743479\n",
      "Epoch 44\n"
     ]
    },
    {
     "name": "stderr",
     "output_type": "stream",
     "text": [
      "Training:   0%|                                           | 0/2 [00:00<?, ?it/s]"
     ]
    },
    {
     "name": "stdout",
     "output_type": "stream",
     "text": [
      "Predicted score mean: 0.014361074918576315 std: 0.0726275340154542\n",
      "True score mean: 0.005161251659632757 std: 1.3525747093120395\n"
     ]
    },
    {
     "name": "stderr",
     "output_type": "stream",
     "text": [
      "Training:  50%|█████████████████▌                 | 1/2 [00:00<00:00,  1.44it/s]"
     ]
    },
    {
     "name": "stdout",
     "output_type": "stream",
     "text": [
      "Predicted score mean: 0.008114226332154004 std: 0.09776254132119207\n",
      "True score mean: -0.03592545198272362 std: 1.737830555229714\n"
     ]
    },
    {
     "name": "stderr",
     "output_type": "stream",
     "text": [
      "Training: 100%|███████████████████████████████████| 2/2 [00:01<00:00,  1.45it/s]\n"
     ]
    },
    {
     "name": "stdout",
     "output_type": "stream",
     "text": [
      "[Epoch 44] Loss: 795.460424\n",
      "Epoch 45\n"
     ]
    },
    {
     "name": "stderr",
     "output_type": "stream",
     "text": [
      "Training:   0%|                                           | 0/2 [00:00<?, ?it/s]"
     ]
    },
    {
     "name": "stdout",
     "output_type": "stream",
     "text": [
      "Predicted score mean: -0.01953338923396502 std: 0.11283589415898079\n",
      "True score mean: 0.00014643764920656106 std: 1.953838062441812\n"
     ]
    },
    {
     "name": "stderr",
     "output_type": "stream",
     "text": [
      "Training:  50%|█████████████████▌                 | 1/2 [00:00<00:00,  1.41it/s]"
     ]
    },
    {
     "name": "stdout",
     "output_type": "stream",
     "text": [
      "Predicted score mean: -0.040781386572675896 std: 0.11281400672305204\n",
      "True score mean: -0.0008058280345452842 std: 1.7560823253361073\n"
     ]
    },
    {
     "name": "stderr",
     "output_type": "stream",
     "text": [
      "Training: 100%|███████████████████████████████████| 2/2 [00:01<00:00,  1.45it/s]\n"
     ]
    },
    {
     "name": "stdout",
     "output_type": "stream",
     "text": [
      "[Epoch 45] Loss: 1168.766840\n",
      "Epoch 46\n"
     ]
    },
    {
     "name": "stderr",
     "output_type": "stream",
     "text": [
      "Training:   0%|                                           | 0/2 [00:00<?, ?it/s]"
     ]
    },
    {
     "name": "stdout",
     "output_type": "stream",
     "text": [
      "Predicted score mean: -0.04277117068971464 std: 0.10502700717765834\n",
      "True score mean: -0.0003450737232775134 std: 1.5048489570410755\n"
     ]
    },
    {
     "name": "stderr",
     "output_type": "stream",
     "text": [
      "Training:  50%|█████████████████▌                 | 1/2 [00:00<00:00,  1.44it/s]"
     ]
    },
    {
     "name": "stdout",
     "output_type": "stream",
     "text": [
      "Predicted score mean: -0.04264383964504469 std: 0.09781381634680773\n",
      "True score mean: -0.008593468436589754 std: 1.4599521742091852\n"
     ]
    },
    {
     "name": "stderr",
     "output_type": "stream",
     "text": [
      "Training: 100%|███████████████████████████████████| 2/2 [00:01<00:00,  1.45it/s]\n"
     ]
    },
    {
     "name": "stdout",
     "output_type": "stream",
     "text": [
      "[Epoch 46] Loss: 563.995534\n",
      "Epoch 47\n"
     ]
    },
    {
     "name": "stderr",
     "output_type": "stream",
     "text": [
      "Training:   0%|                                           | 0/2 [00:00<?, ?it/s]"
     ]
    },
    {
     "name": "stdout",
     "output_type": "stream",
     "text": [
      "Predicted score mean: -0.039035845147342575 std: 0.08957767301428607\n",
      "True score mean: 0.009175761203411431 std: 1.5157276947269034\n"
     ]
    },
    {
     "name": "stderr",
     "output_type": "stream",
     "text": [
      "Training:  50%|█████████████████▌                 | 1/2 [00:00<00:00,  1.41it/s]"
     ]
    },
    {
     "name": "stdout",
     "output_type": "stream",
     "text": [
      "Predicted score mean: -0.025425528023942805 std: 0.07628951011734676\n",
      "True score mean: -0.003510660256004077 std: 1.3844011670826317\n"
     ]
    },
    {
     "name": "stderr",
     "output_type": "stream",
     "text": [
      "Training: 100%|███████████████████████████████████| 2/2 [00:01<00:00,  1.44it/s]\n"
     ]
    },
    {
     "name": "stdout",
     "output_type": "stream",
     "text": [
      "[Epoch 47] Loss: 499.320394\n",
      "Epoch 48\n"
     ]
    },
    {
     "name": "stderr",
     "output_type": "stream",
     "text": [
      "Training:   0%|                                           | 0/2 [00:00<?, ?it/s]"
     ]
    },
    {
     "name": "stdout",
     "output_type": "stream",
     "text": [
      "Predicted score mean: -0.0016132796866178724 std: 0.05658576246765358\n",
      "True score mean: 0.010845019158862056 std: 1.3536247901292993\n"
     ]
    },
    {
     "name": "stderr",
     "output_type": "stream",
     "text": [
      "Training:  50%|█████████████████▌                 | 1/2 [00:00<00:00,  1.43it/s]"
     ]
    },
    {
     "name": "stdout",
     "output_type": "stream",
     "text": [
      "Predicted score mean: 0.01899039815260447 std: 0.03904188341907566\n",
      "True score mean: -0.03359189865883047 std: 1.7681894498157074\n"
     ]
    },
    {
     "name": "stderr",
     "output_type": "stream",
     "text": [
      "Training: 100%|███████████████████████████████████| 2/2 [00:01<00:00,  1.44it/s]\n"
     ]
    },
    {
     "name": "stdout",
     "output_type": "stream",
     "text": [
      "[Epoch 48] Loss: 806.798944\n",
      "Epoch 49\n"
     ]
    },
    {
     "name": "stderr",
     "output_type": "stream",
     "text": [
      "Training:   0%|                                           | 0/2 [00:00<?, ?it/s]"
     ]
    },
    {
     "name": "stdout",
     "output_type": "stream",
     "text": [
      "Predicted score mean: 0.016975272131329003 std: 0.03719217704118154\n",
      "True score mean: -0.005111475586391307 std: 1.4644756788592999\n"
     ]
    },
    {
     "name": "stderr",
     "output_type": "stream",
     "text": [
      "Training:  50%|█████████████████▌                 | 1/2 [00:00<00:00,  1.39it/s]"
     ]
    },
    {
     "name": "stdout",
     "output_type": "stream",
     "text": [
      "Predicted score mean: 0.010438426826470856 std: 0.05043453070691543\n",
      "True score mean: -0.00031414874576610224 std: 1.6350003718692343\n"
     ]
    },
    {
     "name": "stderr",
     "output_type": "stream",
     "text": [
      "Training: 100%|███████████████████████████████████| 2/2 [00:01<00:00,  1.43it/s]\n"
     ]
    },
    {
     "name": "stdout",
     "output_type": "stream",
     "text": [
      "[Epoch 49] Loss: 725.096508\n",
      "Epoch 50\n"
     ]
    },
    {
     "name": "stderr",
     "output_type": "stream",
     "text": [
      "Training:   0%|                                           | 0/2 [00:00<?, ?it/s]"
     ]
    },
    {
     "name": "stdout",
     "output_type": "stream",
     "text": [
      "Predicted score mean: -0.007409937940954259 std: 0.04786650437195301\n",
      "True score mean: 0.0009148915343452325 std: 1.419640902845067\n"
     ]
    },
    {
     "name": "stderr",
     "output_type": "stream",
     "text": [
      "Training:  50%|█████████████████▌                 | 1/2 [00:00<00:00,  1.47it/s]"
     ]
    },
    {
     "name": "stdout",
     "output_type": "stream",
     "text": [
      "Predicted score mean: -0.016609120532428998 std: 0.045100824236459135\n",
      "True score mean: 0.007652515216434724 std: 1.8899543161764356\n"
     ]
    },
    {
     "name": "stderr",
     "output_type": "stream",
     "text": [
      "Training: 100%|███████████████████████████████████| 2/2 [00:01<00:00,  1.45it/s]"
     ]
    },
    {
     "name": "stdout",
     "output_type": "stream",
     "text": [
      "[Epoch 50] Loss: 760.397158\n"
     ]
    },
    {
     "name": "stderr",
     "output_type": "stream",
     "text": [
      "\n"
     ]
    }
   ],
   "source": [
    "from tqdm import tqdm\n",
    "\n",
    "device = torch.device('cuda' if torch.cuda.is_available() else 'cpu')\n",
    "\n",
    "# Hyperparameters\n",
    "lr = 1e-3\n",
    "epochs = 50\n",
    "h_dim = 32\n",
    "edge_dim = 32\n",
    "hidden_dim = 64\n",
    "n_layers = 4\n",
    "\n",
    "# Initialize model\n",
    "model = EGNNScoreModel(\n",
    "    h_dim=2 * h_dim,\n",
    "    edge_dim=2 * edge_dim,\n",
    "    hidden_dim=hidden_dim,\n",
    "    n_layers=n_layers\n",
    ").to(device)\n",
    "\n",
    "# optimizer = optim.Adam(model.parameters(), lr=lr)\n",
    "optimizer = torch.optim.Adam(\n",
    "    model.parameters(),\n",
    "    lr=lr,             \n",
    "    betas=(0.9, 0.999),  \n",
    "    eps=1e-8,            \n",
    "    weight_decay=0      \n",
    ")\n",
    "\n",
    "for epoch in range(epochs):\n",
    "    model.train()\n",
    "    total_loss = 0.0\n",
    "    print(f\"Epoch {epoch+1}\")\n",
    "\n",
    "    for batch in tqdm(loader, desc=\"Training\"):\n",
    "        batch = to_device(batch, device)\n",
    "        x0 = batch[\"translations\"]       # (N_copies, L, 3)\n",
    "        t = batch[\"timesteps\"]           # (N_copies, 1)\n",
    "        x_t = noise_translations(x0, t)  # (N_copies, L, 3)\n",
    "\n",
    "        L = x_t.shape[1]\n",
    "        node_feats = encode_node_features(x_t, t, dim=h_dim)  # (N_copies, L, 2*h_dim)\n",
    "        edge_feats = encode_edge_features(L, dim=edge_dim, device=x_t.device)  # (L, L, 2*edge_dim)\n",
    "        edge_feats = edge_feats.unsqueeze(0).expand(x_t.shape[0], -1, -1, -1)  # (N_copies, L, L, 2*edge_dim)\n",
    "\n",
    "        score_true = score_R3(x_t, x0, t)\n",
    "        \n",
    "        with torch.no_grad():\n",
    "            pred = model(x_t, t, node_feats, edge_feats)\n",
    "            print(\"Predicted score mean:\", pred.mean().item(), \"std:\", pred.std().item())\n",
    "            print(\"True score mean:\", score_true.mean().item(), \"std:\", score_true.std().item())\n",
    "\n",
    "        optimizer.zero_grad()\n",
    "        \n",
    "        score_pred = model(x_t, t, node_feats, edge_feats)\n",
    "        loss = DSM_R3(score_pred, score_true, t)\n",
    "\n",
    "        loss.backward()\n",
    "        optimizer.step()\n",
    "        total_loss += loss.item()\n",
    "\n",
    "    avg_loss = total_loss / len(loader)\n",
    "    print(f\"[Epoch {epoch+1}] Loss: {avg_loss:.6f}\")"
   ]
  },
  {
   "cell_type": "code",
   "execution_count": 6,
   "id": "bba5fa0a-b62f-4fc6-ae77-59edaa2e6f54",
   "metadata": {},
   "outputs": [],
   "source": [
    "@torch.no_grad()\n",
    "def sample_reverse_diffusion(model, L, n_steps=1000, device='cuda'):\n",
    "    \"\"\"\n",
    "    Sample protein coordinates using reverse diffusion (constant β(t) = 1).\n",
    "\n",
    "    Args:\n",
    "        model: trained EGNNScoreModel\n",
    "        L: number of residues\n",
    "        n_steps: number of reverse diffusion steps\n",
    "        device: torch device\n",
    "\n",
    "    Returns:\n",
    "        x: (L, 3) denoised coordinates\n",
    "    \"\"\"\n",
    "    model.eval()\n",
    "    x = torch.randn(1, L, 3, device=device) # Gaussian noise\n",
    "    ts = torch.linspace(1.0, 1e-3, n_steps, device=device)  # discretize time; avoid t=0\n",
    "\n",
    "    dt = 1.0 / n_steps  # Positive forward step size\n",
    "\n",
    "    for t in ts:\n",
    "        t_batch = torch.full((1, 1), t, device=device)  # (1, 1)\n",
    "        \n",
    "        # Node & edge encoding \n",
    "        node_feats = encode_node_features(x, t_batch, dim=h_dim)      # (1, L, 2*h_dim)\n",
    "        edge_feats = encode_edge_features(L, dim=edge_dim, device=device)  # (L, L, 2*edge_dim)\n",
    "        edge_feats = edge_feats.unsqueeze(0)  # (1, L, L, 2*edge_dim)\n",
    "\n",
    "        # Predict the score ∇ log p_t(x_t)\n",
    "        score = model(x, t_batch, node_feats, edge_feats)  # (1, L, 3)\n",
    "        # score = model(x, x0[0,:,:],t_batch)\n",
    "\n",
    "        # Reverse diffusion update (Euler-Maruyama)\n",
    "        z = torch.randn_like(x) if t > 1e-3 else 0.0  # No noise at final step\n",
    "        x = x + (-0.5 * x - score)  * (-1*dt) + torch.sqrt(torch.tensor(-1*dt, device=device)) * z\n",
    "\n",
    "    return x.squeeze(0)  # (L, 3)\n"
   ]
  },
  {
   "cell_type": "code",
   "execution_count": 7,
   "id": "9ce51ed2-3519-434f-ba5e-d596aeacc8c0",
   "metadata": {},
   "outputs": [
    {
     "name": "stdout",
     "output_type": "stream",
     "text": [
      "Saved Cα PDB to: sampled.pdb\n"
     ]
    }
   ],
   "source": [
    "sample = sample_reverse_diffusion(model, L=23, device='cpu')  # shape (32, 3)\n",
    "write_ca_to_pdb(sample, 'sampled.pdb')\n",
    "\n",
    "# sample = sample_reverse_diffusion(score_R3, L=23, device='cpu')  # shape (32, 3)\n",
    "# write_ca_to_pdb(sample, 'compare.pdb')"
   ]
  },
  {
   "cell_type": "code",
   "execution_count": 8,
   "id": "d661568a-dcb3-45f2-b28c-010291f904db",
   "metadata": {},
   "outputs": [
    {
     "data": {
      "text/plain": [
       "==========================================================================================\n",
       "Layer (type:depth-idx)                   Output Shape              Param #\n",
       "==========================================================================================\n",
       "EGNNScoreModel                           [8, 100, 3]               --\n",
       "├─EGNN: 1-1                              [8, 100, 3]               --\n",
       "│    └─ModuleList: 2-1                   --                        --\n",
       "│    │    └─EGNNLayer: 3-1               [8, 100, 3]               29,185\n",
       "│    │    └─EGNNLayer: 3-2               [8, 100, 3]               29,185\n",
       "│    │    └─EGNNLayer: 3-3               [8, 100, 3]               29,185\n",
       "│    │    └─EGNNLayer: 3-4               [8, 100, 3]               29,185\n",
       "├─Linear: 1-2                            [8, 100, 3]               195\n",
       "==========================================================================================\n",
       "Total params: 116,935\n",
       "Trainable params: 116,935\n",
       "Non-trainable params: 0\n",
       "Total mult-adds (M): 0.94\n",
       "==========================================================================================\n",
       "Input size (MB): 2.78\n",
       "Forward/backward pass size (MB): 670.35\n",
       "Params size (MB): 0.94\n",
       "Estimated Total Size (MB): 674.07\n",
       "=========================================================================================="
      ]
     },
     "execution_count": 8,
     "metadata": {},
     "output_type": "execute_result"
    }
   ],
   "source": [
    "from torchinfo import summary\n",
    "\n",
    "# Example batch dimensions\n",
    "N, L = 8, 100\n",
    "# Create dummy inputs\n",
    "x_t = torch.randn(N, L, 3)\n",
    "t = torch.randn(N, 1)\n",
    "node_feats = encode_node_features(x_t, t, dim=h_dim)  # (1, L, 64)\n",
    "# edge_feats = encode_edge_features(L, dim=edge_dim, device=device)  # (L, L, 64)\n",
    "# edge_feats = edge_feats.unsqueeze(0)  # (1, L, L, 64)\n",
    "edge_feats = encode_edge_features(L, dim=edge_dim, device=device)  # (L, L, edge_dim)\n",
    "edge_feats = edge_feats.unsqueeze(0).expand(N, -1, -1, -1)          # (N, L, L, edge_dim)\n",
    "# Now use input_data instead of input_size\n",
    "summary(model, input_data=(x_t, t, node_feats, edge_feats))"
   ]
  },
  {
   "cell_type": "code",
   "execution_count": null,
   "id": "e07da631-6af0-41f7-8a4f-35d617e51431",
   "metadata": {},
   "outputs": [],
   "source": []
  },
  {
   "cell_type": "code",
   "execution_count": 4,
   "id": "44a1dcf9-f255-4e6b-abbc-5a47cfac2430",
   "metadata": {
    "scrolled": true
   },
   "outputs": [],
   "source": [
    "# omega_grid = torch.linspace(1e-4,torch.pi,1000)\n",
    "\n",
    "# for batch in loader:\n",
    "#     x0 = batch['translations']\n",
    "#     r0 = batch['rotations']\n",
    "#     t = batch['timesteps']\n",
    "#     print(batch['protein_id'])\n",
    "\n",
    "#     print(x0.shape)\n",
    "#     print(r0.shape)\n",
    "#     write_frames_to_pdb(x0, r0, 'og.pdb')\n",
    "\n",
    "#     omega_grid = torch.linspace(1e-4,torch.pi,1000)\n",
    "\n",
    "#     for t in [0.3, 1.5, 5.0]:\n",
    "#         t_tensor = torch.Tensor([t]).unsqueeze(0)\n",
    "#         xt = noise_translations(x0.unsqueeze(0), t_tensor).squeeze(0)\n",
    "#         rt = noise_rotations(r0.unsqueeze(0), t_tensor, omega_grid).squeeze(0)\n",
    "        # write_frames_to_pdb(x0, r0, 'og.pdb')\n",
    "        # write_frames_to_pdb(xt, rt, f'noised_{t}.pdb')\n",
    "    \n",
    "    # xt = noise_translations(x0.unsqueeze(0), t.unsqueeze(0))\n",
    "    # rt = noise_rotations(r0.unsqueeze(0), t.unsqueeze(0), omega_grid)\n",
    "\n",
    "    # write_frames_to_pdb(x0.squeeze(0), r0.squeeze(0), 'og.pdb')\n",
    "    # write_frames_to_pdb(xt.squeeze(0), rt.squeeze(0), 'noised.pdb')\n",
    "\n",
    "# xt = noise_translations(x0, t)\n",
    "# rt = noise_rotations(r0, t, omega_grid)\n",
    "\n",
    "\n",
    "# write_frames_to_pdb(x0[0,:,:].squeeze(0), r0[0,:,:].squeeze(0), 'og.pdb')\n",
    "# write_frames_to_pdb(xt[0,:,:].squeeze(0), rt[0,:,:].squeeze(0), 'noised.pdb')"
   ]
  }
 ],
 "metadata": {
  "kernelspec": {
   "display_name": "Python 3 (ipykernel)",
   "language": "python",
   "name": "python3"
  },
  "language_info": {
   "codemirror_mode": {
    "name": "ipython",
    "version": 3
   },
   "file_extension": ".py",
   "mimetype": "text/x-python",
   "name": "python",
   "nbconvert_exporter": "python",
   "pygments_lexer": "ipython3",
   "version": "3.10.16"
  }
 },
 "nbformat": 4,
 "nbformat_minor": 5
}
